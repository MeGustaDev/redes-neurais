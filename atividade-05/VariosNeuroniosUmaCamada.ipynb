{
  "cells": [
    {
      "cell_type": "code",
      "execution_count": 1,
      "metadata": {
        "id": "JVDzfshVzrSQ"
      },
      "outputs": [],
      "source": [
        "# bibliotecas básicas\n",
        "import matplotlib.pyplot as plt\n",
        "import numpy as np\n",
        "from sklearn.model_selection import train_test_split\n",
        "from sklearn.metrics import confusion_matrix, accuracy_score\n",
        "\n",
        "%matplotlib inline"
      ]
    },
    {
      "cell_type": "code",
      "execution_count": 2,
      "metadata": {
        "id": "u5SBW_fMzsAV"
      },
      "outputs": [],
      "source": [
        "# função para traçar reta no plano cartesiano (x2 = f(x1))\n",
        "def coord(w0,w1,w2,x1):\n",
        "  if w2 != 0:\n",
        "    return (-w0-w1*x1)/w2\n",
        "  else:\n",
        "    return 2000 # Inf"
      ]
    },
    {
      "cell_type": "code",
      "execution_count": 3,
      "metadata": {
        "colab": {
          "base_uri": "https://localhost:8080/",
          "height": 206
        },
        "id": "ugqwfftBzsDm",
        "outputId": "8dbae47d-4fcd-40ac-fc63-c7d77d9f0693"
      },
      "outputs": [
        {
          "data": {
            "text/html": [
              "<div>\n",
              "<style scoped>\n",
              "    .dataframe tbody tr th:only-of-type {\n",
              "        vertical-align: middle;\n",
              "    }\n",
              "\n",
              "    .dataframe tbody tr th {\n",
              "        vertical-align: top;\n",
              "    }\n",
              "\n",
              "    .dataframe thead th {\n",
              "        text-align: right;\n",
              "    }\n",
              "</style>\n",
              "<table border=\"1\" class=\"dataframe\">\n",
              "  <thead>\n",
              "    <tr style=\"text-align: right;\">\n",
              "      <th></th>\n",
              "      <th>0</th>\n",
              "      <th>1</th>\n",
              "      <th>2</th>\n",
              "      <th>3</th>\n",
              "      <th>4_Iris-setosa</th>\n",
              "      <th>4_Iris-versicolor</th>\n",
              "      <th>4_Iris-virginica</th>\n",
              "    </tr>\n",
              "  </thead>\n",
              "  <tbody>\n",
              "    <tr>\n",
              "      <th>0</th>\n",
              "      <td>5.1</td>\n",
              "      <td>3.5</td>\n",
              "      <td>1.4</td>\n",
              "      <td>0.2</td>\n",
              "      <td>True</td>\n",
              "      <td>False</td>\n",
              "      <td>False</td>\n",
              "    </tr>\n",
              "    <tr>\n",
              "      <th>1</th>\n",
              "      <td>4.9</td>\n",
              "      <td>3.0</td>\n",
              "      <td>1.4</td>\n",
              "      <td>0.2</td>\n",
              "      <td>True</td>\n",
              "      <td>False</td>\n",
              "      <td>False</td>\n",
              "    </tr>\n",
              "    <tr>\n",
              "      <th>2</th>\n",
              "      <td>4.7</td>\n",
              "      <td>3.2</td>\n",
              "      <td>1.3</td>\n",
              "      <td>0.2</td>\n",
              "      <td>True</td>\n",
              "      <td>False</td>\n",
              "      <td>False</td>\n",
              "    </tr>\n",
              "    <tr>\n",
              "      <th>3</th>\n",
              "      <td>4.6</td>\n",
              "      <td>3.1</td>\n",
              "      <td>1.5</td>\n",
              "      <td>0.2</td>\n",
              "      <td>True</td>\n",
              "      <td>False</td>\n",
              "      <td>False</td>\n",
              "    </tr>\n",
              "    <tr>\n",
              "      <th>4</th>\n",
              "      <td>5.0</td>\n",
              "      <td>3.6</td>\n",
              "      <td>1.4</td>\n",
              "      <td>0.2</td>\n",
              "      <td>True</td>\n",
              "      <td>False</td>\n",
              "      <td>False</td>\n",
              "    </tr>\n",
              "  </tbody>\n",
              "</table>\n",
              "</div>"
            ],
            "text/plain": [
              "     0    1    2    3  4_Iris-setosa  4_Iris-versicolor  4_Iris-virginica\n",
              "0  5.1  3.5  1.4  0.2           True              False             False\n",
              "1  4.9  3.0  1.4  0.2           True              False             False\n",
              "2  4.7  3.2  1.3  0.2           True              False             False\n",
              "3  4.6  3.1  1.5  0.2           True              False             False\n",
              "4  5.0  3.6  1.4  0.2           True              False             False"
            ]
          },
          "execution_count": 3,
          "metadata": {},
          "output_type": "execute_result"
        }
      ],
      "source": [
        "# dataset Iris\n",
        "import pandas as pd\n",
        "\n",
        "df = pd.read_csv('https://archive.ics.uci.edu/ml/machine-learning-databases/iris/iris.data', header=None)\n",
        "\n",
        "df = pd.get_dummies(df, columns=[4])\n",
        "\n",
        "# as classes\n",
        "y = df.iloc[0:150, [4,5,6]].values\n",
        "\n",
        "# seleciona features (colunas) de entrada\n",
        "X = df.iloc[0:150, [0,1,2,3]].values\n",
        "\n",
        "df.head()"
      ]
    },
    {
      "cell_type": "code",
      "execution_count": 4,
      "metadata": {
        "id": "3QKI7d3z1k4h"
      },
      "outputs": [],
      "source": [
        "# base\n",
        "# classe Neuronio e aprendizado estocastico/online\n",
        "\n",
        "class Neuronio(object):\n",
        "\n",
        "    def __init__(self, eta=0.1, epocas=50, fativ='perceptron',showErro=False):\n",
        "        self.eta = eta\n",
        "        self.epocas = epocas\n",
        "        self.w_ = np.random.rand(1 + X.shape[1]) - 0.5\n",
        "        self.fativ = fativ\n",
        "        self.showErro = showErro\n",
        "        self.erro_ep = 0\n",
        "        self.SqError_ = []\n",
        "\n",
        "    def somat(self, X):\n",
        "        return self.w_[0] + np.dot(X, self.w_[1:])\n",
        "\n",
        "    def sinal(self, x):\n",
        "        return np.where(x >= 0.0, 1, -1)\n",
        "\n",
        "    def tanh(self, x):\n",
        "      return (np.exp(x) - np.exp(-x))/(np.exp(x) + np.exp(-x))\n",
        "\n",
        "    def d_tanh(self, x):\n",
        "      return 1 - self.tanh(x) * self.tanh(x)\n",
        "\n",
        "    def ReLU(self, x):\n",
        "      return np.where(x > 0.0, x, 0.1*x)  #max(0, x) .... float\n",
        "\n",
        "    def d_ReLU(self, x):\n",
        "      return np.where(x > 0.0, 1, 0.1)\n",
        "\n",
        "    def sigmoide(self, x):\n",
        "      return 1/(1 + np.exp(-x))\n",
        "\n",
        "    def d_sigmoide(self, x):\n",
        "      return self.sigmoide(x)*(1-self.sigmoide(x))\n",
        "\n",
        "    def predict(self,X):\n",
        "      if self.fativ == 'sinal' or self.fativ == 'perceptron':\n",
        "#        print(f\"sinalPredict={self.sinal(self.somat(X))}\")  # debug\n",
        "        return self.sinal(self.somat(X))\n",
        "      elif self.fativ == 'linear':\n",
        "        return self.somat(X)\n",
        "      elif self.fativ == 'tanh':\n",
        "        return self.tanh(self.somat(X))\n",
        "      elif self.fativ == 'ReLU':\n",
        "        return self.ReLU(self.somat(X))\n",
        "      elif self.fativ == 'sigmoide':\n",
        "        return self.sigmoide(self.somat(X))\n",
        "      else:\n",
        "        return 11\n",
        "\n",
        "    def deltaW(self, erro):\n",
        "      if self.fativ == 'sinal' or self.fativ == 'perceptron':\n",
        "        atualiza = self.eta * erro\n",
        "      elif self.fativ == 'linear':\n",
        "        atualiza = self.eta * erro\n",
        "      elif self.fativ == 'tanh':\n",
        "#        print(f\"> eta={self.eta} tanh={self.tanh(erro)} dtanh={self.d_tanh(erro)} erro={erro}\")\n",
        "        atualiza = self.eta * self.d_tanh(erro) * erro\n",
        "      elif self.fativ == 'ReLU':\n",
        "        atualiza = self.eta * self.d_ReLU(erro) * erro\n",
        "      elif self.fativ == 'sigmoide':\n",
        "        atualiza = self.eta * self.d_sigmoide(erro) * erro\n",
        "      else:\n",
        "        print(f\"Função de ativação '{self.fativ}' desconhecida\")\n",
        "        exit()\n",
        "      return atualiza\n",
        "\n",
        "    def treinaGD(self,X,y):\n",
        "      self.SqError_ = []\n",
        "      self.erros_classif_ = []\n",
        "      for ep in range(self.epocas):\n",
        "        erro_classif = 0\n",
        "        indices = np.arange(X.shape[0])\n",
        "        np.random.shuffle(indices)\n",
        "        Xs = X[indices]\n",
        "        ys = y[indices]\n",
        "        outputs = self.predict(Xs)\n",
        "        erros = (ys - outputs)\n",
        "       # print(outputs,erros)\n",
        "        erro_classif = np.where(ys*outputs < 0, 1, 0).sum()\n",
        "        self.erros_classif_.append(erro_classif)\n",
        "        if ep < (self.epocas-1):\n",
        "          self.w_[1:] += self.eta * Xs.T.dot(erros)\n",
        "          self.w_[0] += self.eta * erros.sum()\n",
        "        SqError = (erros**2).sum() / 2.0 # ou np.square(erros)/2\n",
        "        self.SqError_.append(SqError)\n",
        "        if self.showErro:\n",
        "          if ep == 0:\n",
        "            print(f\"{'Época':^10}\\tErro\")\n",
        "          else:\n",
        "            print(f\"{str(ep):^10}\\t{erro_classif}\")\n",
        "      return self\n",
        "\n",
        "    def treinaSGD(self, X, y):\n",
        "        self.erros_ = []\n",
        "        self.erros_classif_ = []\n",
        "        self.SqError_ = []\n",
        "        for ep in range(self.epocas):\n",
        "            erro_ep = 0\n",
        "            erro_classif = 0\n",
        "            SqError = 0\n",
        "\n",
        "            indices = np.arange(X.shape[0])\n",
        "            np.random.shuffle(indices)\n",
        "            Xs = X[indices]\n",
        "            ys = y[indices]\n",
        "\n",
        "            for xi, target in zip(Xs, ys):\n",
        "              output = self.predict(xi)\n",
        "              erro = target - output\n",
        "              SqError += erro*erro\n",
        "              erro_ep += erro\n",
        "              if (float(target)*float(output)) < 0:\n",
        "                #print(f\"ep={ep} {xi} target={target} output={output} t*o={target*output}\") # debug\n",
        "                erro_classif += 1\n",
        "\n",
        "              if (ep < (self.epocas-1)):  #\n",
        "                atualizacao = self.deltaW(erro)\n",
        "                self.w_[0] +=  atualizacao * 1\n",
        "                self.w_[1:] +=  atualizacao * xi\n",
        "\n",
        "            self.erros_.append(erro_ep)\n",
        "            self.SqError_.append(SqError)\n",
        "            self.erros_classif_.append(erro_classif)\n",
        "            if self.showErro:\n",
        "              if ep == 0:\n",
        "                print(f\"{'Época':^10}\\tErro\")\n",
        "              else:\n",
        "                print(f\"{str(ep):^10}\\t{erro_classif}\")\n",
        "\n",
        "        return self"
      ]
    },
    {
      "cell_type": "code",
      "execution_count": 5,
      "metadata": {
        "colab": {
          "base_uri": "https://localhost:8080/"
        },
        "id": "FisAJZnW18V7",
        "outputId": "1617ace6-14a8-4620-a783-362831233bb0"
      },
      "outputs": [
        {
          "data": {
            "text/plain": [
              "<__main__.Neuronio at 0x25cb66a1e50>"
            ]
          },
          "execution_count": 5,
          "metadata": {},
          "output_type": "execute_result"
        }
      ],
      "source": [
        "neur1 = Neuronio(fativ='sigmoide', eta=0.1, epocas=1000,showErro=False)\n",
        "neur2 = Neuronio(fativ='sigmoide', eta=0.1, epocas=1000,showErro=False)\n",
        "neur3 = Neuronio(fativ='sigmoide', eta=0.1, epocas=1000,showErro=False)\n",
        "neur1.treinaSGD(X,y[:,0])\n",
        "neur2.treinaSGD(X,y[:,1])\n",
        "neur3.treinaSGD(X,y[:,2])"
      ]
    },
    {
      "cell_type": "code",
      "execution_count": 6,
      "metadata": {
        "colab": {
          "base_uri": "https://localhost:8080/"
        },
        "id": "6pCP6Hpc1lD1",
        "outputId": "3e49bfef-2499-480a-fead-e2b940972981"
      },
      "outputs": [
        {
          "data": {
            "text/plain": [
              "(1.0375155524986666e-10, 0.6197727739057752, 0.9999348655451198)"
            ]
          },
          "execution_count": 6,
          "metadata": {},
          "output_type": "execute_result"
        }
      ],
      "source": [
        "entrada = X[122]\n",
        "neur1.predict(entrada),neur2.predict(entrada),neur3.predict(entrada)"
      ]
    },
    {
      "cell_type": "code",
      "execution_count": 7,
      "metadata": {
        "id": "sUwwzPH21lO0"
      },
      "outputs": [],
      "source": [
        "def ProbClasse(x):\n",
        "  p1 = neur1.predict(x)\n",
        "  p2 = neur2.predict(x)\n",
        "  p3 = neur3.predict(x)\n",
        "  soma = p1+p2+p3\n",
        "  return p1/soma, p2/soma, p3/soma"
      ]
    },
    {
      "cell_type": "code",
      "execution_count": 8,
      "metadata": {
        "id": "JuOxpp4bPYQy"
      },
      "outputs": [],
      "source": [
        "def Classif(x):\n",
        "  probs = (neur1.predict(x), neur2.predict(x), neur3.predict(x))\n",
        "  idx = np.array(probs).argmax()\n",
        "  classes = ['4_Iris-setosa',\t'Iris-versicolor',\t'Iris-virginica']\n",
        "  return classes[idx]"
      ]
    },
    {
      "cell_type": "code",
      "execution_count": 9,
      "metadata": {
        "colab": {
          "base_uri": "https://localhost:8080/"
        },
        "id": "fIKgg4yt76hw",
        "outputId": "c83958b8-2c29-4691-c5f1-7b3236128e5b"
      },
      "outputs": [
        {
          "data": {
            "text/plain": [
              "((6.405573000717221e-11, 0.3826448420507465, 0.6173551578851978),\n",
              " 'Iris-virginica')"
            ]
          },
          "execution_count": 9,
          "metadata": {},
          "output_type": "execute_result"
        }
      ],
      "source": [
        "ProbClasse(entrada),Classif(entrada)"
      ]
    }
  ],
  "metadata": {
    "colab": {
      "provenance": []
    },
    "kernelspec": {
      "display_name": "Python 3",
      "name": "python3"
    },
    "language_info": {
      "codemirror_mode": {
        "name": "ipython",
        "version": 3
      },
      "file_extension": ".py",
      "mimetype": "text/x-python",
      "name": "python",
      "nbconvert_exporter": "python",
      "pygments_lexer": "ipython3",
      "version": "3.11.3"
    }
  },
  "nbformat": 4,
  "nbformat_minor": 0
}
